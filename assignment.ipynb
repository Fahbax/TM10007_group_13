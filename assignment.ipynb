{
  "cells": [
    {
      "cell_type": "markdown",
      "metadata": {
        "id": "view-in-github",
        "colab_type": "text"
      },
      "source": [
        "<a href=\"https://colab.research.google.com/github/Fahbax/TM10007_group_13/blob/main/assignment.ipynb\" target=\"_parent\"><img src=\"https://colab.research.google.com/assets/colab-badge.svg\" alt=\"Open In Colab\"/></a>"
      ]
    },
    {
      "cell_type": "markdown",
      "metadata": {
        "id": "7SXpaKwwGe5x"
      },
      "source": [
        "# TM10007 Assignment template"
      ]
    },
    {
      "cell_type": "code",
      "execution_count": 2,
      "metadata": {
        "colab": {
          "base_uri": "https://localhost:8080/"
        },
        "id": "CiDn2Sk-VWqE",
        "outputId": "6fef2539-049e-45c9-f4d4-3f60fc203931"
      },
      "outputs": [
        {
          "output_type": "stream",
          "name": "stdout",
          "text": [
            "fatal: destination path 'tm10007_ml' already exists and is not an empty directory.\n"
          ]
        }
      ],
      "source": [
        "# Run this to use from colab environment\n",
        "!git clone https://github.com/jveenland/tm10007_ml.git\n"
      ]
    },
    {
      "cell_type": "markdown",
      "metadata": {
        "id": "vAUxLenr-h5u"
      },
      "source": [
        "## Data loading and cleaning\n",
        "\n",
        "Below are functions to load the dataset of your choice. After that, it is all up to you to create and evaluate a classification method. Beware, there may be missing values in these datasets. Good luck!"
      ]
    },
    {
      "cell_type": "code",
      "execution_count": 3,
      "metadata": {
        "colab": {
          "base_uri": "https://localhost:8080/"
        },
        "id": "-NE_fTbKGe5z",
        "outputId": "7653f33b-4697-444d-cd2f-4945482b62f1"
      },
      "outputs": [
        {
          "output_type": "stream",
          "name": "stdout",
          "text": [
            "The number of samples: 115\n",
            "The number of columns: 494\n"
          ]
        }
      ],
      "source": [
        "import os\n",
        "import pandas as pd\n",
        "data = pd.read_csv('/content/tm10007_ml/worclipo/Lipo_radiomicFeatures.csv', index_col=0)\n",
        "print(f'The number of samples: {len(data.index)}')\n",
        "print(f'The number of columns: {len(data.columns)}')"
      ]
    },
    {
      "cell_type": "code",
      "execution_count": 21,
      "metadata": {
        "id": "rdgQMqZ6-h51",
        "colab": {
          "base_uri": "https://localhost:8080/",
          "height": 295
        },
        "outputId": "22b788b8-d93a-480d-96e0-be682c48f001"
      },
      "outputs": [
        {
          "output_type": "display_data",
          "data": {
            "text/plain": [
              "<Figure size 432x288 with 1 Axes>"
            ],
            "image/png": "[encoded data removed]"
          },
          "metadata": {
            "needs_background": "light"
          }
        }
      ],
      "source": [
        "#print(data['label'])#,'PREDICT_original_sf_compactness_avg_2.5D','PREDICT_original_sf_compactness_std_2.5D'])\n",
        "#df = pd.DataFrame(data, columns=[\"label\", \"PREDICT_original_sf_compactness_avg_2.5D\",\"PREDICT_original_sf_compactness_std_2.5D\"])\n",
        "import matplotlib.pyplot as plt\n",
        "colors = {'liposarcoma': 'red', 'lipoma': 'blue'}\n",
        "#plt.scatter(data['PREDICT_original_sf_compactness_avg_2.5D'], data['PREDICT_original_sf_compactness_std_2.5D'], c=d['label'].map(colors))\n",
        "plt.scatter(data['PREDICT_original_sf_volume_2.5D'], data['PREDICT_original_tf_Gabor_range_F0.05_A1.57'], c=df['label'].map(colors))\n",
        "\n",
        "# Voeg labels toe aan de plot\n",
        "plt.title('Voorbeeld Scatterplot')\n",
        "plt.xlabel('X-as')\n",
        "plt.ylabel('Y-as')\n",
        "\n",
        "# Toon de plot\n",
        "plt.show()"
      ]
    },
    {
      "cell_type": "code",
      "source": [
        "from sklearn.tree import DecisionTreeClassifier\n",
        "from sklearn.model_selection import train_test_split\n",
        "from sklearn.metrics import accuracy_score\n",
        "\n",
        "# Split de data in train en test sets\n",
        "X = data.drop('label', axis=1)\n",
        "y = data['label']\n",
        "X_train, X_test, y_train, y_test = train_test_split(X, y, test_size=0.3)\n",
        "\n",
        "# Maak de beslissingsboom\n",
        "model = DecisionTreeClassifier()\n",
        "model.fit(X_train, y_train)\n",
        "\n",
        "# Bekijk de belangrijkste features\n",
        "importance = model.feature_importances_\n",
        "#for i,v in enumerate(importance):\n",
        "#    print('Feature: %s, Score: %.10f' % (X.columns[i],v))\n",
        "\n",
        "# Maak een voorspelling met het model\n",
        "y_pred = model.predict(X_test)\n",
        "\n",
        "# Bereken de nauwkeurigheid van het model\n",
        "accuracy = accuracy_score(y_test, y_pred)\n",
        "print(\"Nauwkeurigheid: \", accuracy)"
      ],
      "metadata": {
        "colab": {
          "base_uri": "https://localhost:8080/"
        },
        "id": "aksrYgb0u41d",
        "outputId": "a6f90fcb-7505-48ef-b3c8-1a8031f18a8f"
      },
      "execution_count": 55,
      "outputs": [
        {
          "output_type": "stream",
          "name": "stdout",
          "text": [
            "Nauwkeurigheid:  0.6285714285714286\n"
          ]
        }
      ]
    },
    {
      "cell_type": "code",
      "source": [
        "from sklearn.naive_bayes import GaussianNB\n",
        "from sklearn.discriminant_analysis import LinearDiscriminantAnalysis\n",
        "from sklearn.discriminant_analysis import QuadraticDiscriminantAnalysis\n",
        "from sklearn.linear_model import LogisticRegression\n",
        "from sklearn.linear_model import SGDClassifier\n",
        "from sklearn.neighbors import KNeighborsClassifier\n",
        "\n",
        "from sklearn.tree import DecisionTreeClassifier\n",
        "from sklearn.model_selection import train_test_split\n",
        "from sklearn.metrics import accuracy_score\n",
        "from sklearn.inspection import permutation_importance\n",
        "\n",
        "# Split de data in train en test sets\n",
        "X = data.drop('label', axis=1)\n",
        "y = data['label']\n",
        "X_train, X_test, y_train, y_test = train_test_split(X, y, test_size=0.3)\n",
        "\n",
        "# Maak de beslissingsboom\n",
        "model = KNeighborsClassifier(n_neighbors=10) # de default is 5 buren\n",
        "model.fit(X_train, y_train)\n",
        "\n",
        "# Bepaal de belangrijkste features met Permutation Importance\n",
        "#result = permutation_importance(model, X_test, y_test, n_repeats=10, random_state=0)\n",
        "#importance = result.importances_mean\n",
        "\n",
        "# Print de belangrijkste features\n",
        "#for i,v in enumerate(importance):\n",
        "#    print('Feature: %s, Score: %.5f' % (X.columns[i],v))\n",
        "\n",
        "# Maak een voorspelling met het model\n",
        "y_pred = model.predict(X_test)\n",
        "\n",
        "# Bereken de nauwkeurigheid van het model\n",
        "accuracy = accuracy_score(y_test, y_pred)\n",
        "print(\"Nauwkeurigheid: \", accuracy)"
      ],
      "metadata": {
        "colab": {
          "base_uri": "https://localhost:8080/"
        },
        "id": "OPBoEZaMx-uY",
        "outputId": "9b56f432-a885-4cfa-f45f-674adacbef1a"
      },
      "execution_count": 107,
      "outputs": [
        {
          "output_type": "stream",
          "name": "stdout",
          "text": [
            "Nauwkeurigheid:  0.5142857142857142\n"
          ]
        }
      ]
    },
    {
      "cell_type": "code",
      "source": [
        "import numpy as np\n",
        "print(importance.max())\n",
        "# Gebruik argsort om de indexen van de gesorteerde waarden te verkrijgen\n",
        "sorted_idx = np.argsort(importance)\n",
        "\n",
        "# De op een na grootste waarde is de waarde bij de een na laatste index in de gesorteerde array\n",
        "second_largest = importance[sorted_idx[-2]]\n",
        "third_largest = importance[sorted_idx[-3]]\n",
        "\n",
        "\n",
        "print(second_largest) \n",
        "print(third_largest)"
      ],
      "metadata": {
        "colab": {
          "base_uri": "https://localhost:8080/"
        },
        "id": "RdMgTbPE2spo",
        "outputId": "bdbd0514-18fc-4fb6-9507-d93948430942"
      },
      "execution_count": 36,
      "outputs": [
        {
          "output_type": "stream",
          "name": "stdout",
          "text": [
            "0.1485714285714286\n",
            "0.054285714285714305\n",
            "0.025714285714285724\n"
          ]
        }
      ]
    },
    {
      "cell_type": "code",
      "source": [
        "# hiermee kunnen we er nog meer testen\n",
        "from sklearn.naive_bayes import GaussianNB\n",
        "from sklearn.discriminant_analysis import LinearDiscriminantAnalysis\n",
        "from sklearn.discriminant_analysis import QuadraticDiscriminantAnalysis\n",
        "from sklearn.linear_model import LogisticRegression\n",
        "from sklearn.linear_model import SGDClassifier\n",
        "from sklearn.neighbors import KNeighborsClassifier\n",
        "\n",
        "from sklearn.ensemble import RandomForestClassifier\n",
        "from sklearn.model_selection import train_test_split\n",
        "from sklearn.metrics import accuracy_score\n",
        "from sklearn.inspection import permutation_importance\n",
        "\n",
        "# Split de data in train en test sets\n",
        "X = data.drop('label', axis=1)\n",
        "y = data['label']\n",
        "X_train, X_test, y_train, y_test = train_test_split(X, y, test_size=0.3)\n",
        "\n",
        "# Maak de beslissingsboom\n",
        "model = RandomForestClassifier()\n",
        "model.fit(X_train, y_train)\n",
        "\n",
        "\n",
        "# Maak een voorspelling met het model\n",
        "y_pred = model.predict(X_test)\n",
        "\n",
        "# Bereken de nauwkeurigheid van het model\n",
        "accuracy = accuracy_score(y_test, y_pred)\n",
        "print(\"Nauwkeurigheid: \", accuracy)"
      ],
      "metadata": {
        "colab": {
          "base_uri": "https://localhost:8080/"
        },
        "id": "vPWlSWB55UfB",
        "outputId": "dfaa726a-b391-40fd-ab5e-4c78b1680cda"
      },
      "execution_count": 66,
      "outputs": [
        {
          "output_type": "stream",
          "name": "stdout",
          "text": [
            "Nauwkeurigheid:  0.7142857142857143\n"
          ]
        }
      ]
    },
    {
      "cell_type": "code",
      "source": [
        "from scipy.stats import shapiro\n",
        "df=data.iloc[:,2:]\n",
        "niet_normaal = 0\n",
        "for column in df:\n",
        "    for label in set(data['label']):\n",
        "        a_values = data.loc[data['label'] == label, column]\n",
        "        stat, p = shapiro(a_values)\n",
        "        # interpreteer de uitvoer van de test\n",
        "        alpha = 0.05\n",
        "        if p > alpha:\n",
        "            #print(f'De gegevens lijken normaal verdeeld (fail to reject H0):{column}{label}')\n",
        "            continue\n",
        "        else:\n",
        "            #print(f'De gegevens lijken niet normaal verdeeld (reject H0):{column}{label}')\n",
        "            niet_normaal+=1\n",
        "\n",
        "\n",
        "print(niet_normaal)"
      ],
      "metadata": {
        "colab": {
          "base_uri": "https://localhost:8080/"
        },
        "id": "fqm1SndK6few",
        "outputId": "e2327027-c1e8-4f3e-abd9-6d9b513718b0"
      },
      "execution_count": 48,
      "outputs": [
        {
          "output_type": "stream",
          "name": "stdout",
          "text": [
            "783\n"
          ]
        }
      ]
    },
    {
      "cell_type": "code",
      "source": [
        "# Selecteer 20 willekeurige rijen uit de dataframe\n",
        "random_samples = data.sample(n=20, axis=0)\n",
        "ids = random_samples.index.values\n",
        "print(ids)"
      ],
      "metadata": {
        "colab": {
          "base_uri": "https://localhost:8080/"
        },
        "id": "U0hCYBew8lxO",
        "outputId": "d3a85c46-130d-495f-fcf0-4080816ff79e"
      },
      "execution_count": 70,
      "outputs": [
        {
          "output_type": "stream",
          "name": "stdout",
          "text": [
            "['Lipo-026_0' 'Lipo-060_0' 'Lipo-068_0' 'Lipo-100_0' 'Lipo-035_0'\n",
            " 'Lipo-102_0' 'Lipo-019_0' 'Lipo-047_0' 'Lipo-067_0' 'Lipo-034_0'\n",
            " 'Lipo-082_0' 'Lipo-072_0' 'Lipo-022_0' 'Lipo-038_0' 'Lipo-071_0'\n",
            " 'Lipo-115_0' 'Lipo-001_0' 'Lipo-097_0' 'Lipo-096_0' 'Lipo-113_0']\n"
          ]
        }
      ]
    },
    {
      "cell_type": "code",
      "source": [
        "ids_validation =['Lipo-026_0', 'Lipo-060_0', 'Lipo-068_0', 'Lipo-100_0', 'Lipo-035_0',\n",
        " 'Lipo-102_0', 'Lipo-019_0', 'Lipo-047_0', 'Lipo-067_0', 'Lipo-034_0',\n",
        " 'Lipo-082_0', 'Lipo-072_0', 'Lipo-022_0', 'Lipo-038_0', 'Lipo-071_0',\n",
        " 'Lipo-115_0', 'Lipo-001_0', 'Lipo-097_0', 'Lipo-096_0', 'Lipo-113_0']\n",
        "# Verwijder de geselecteerde rijen uit de originele dataframe\n",
        "data_test_train = data.drop(ids_validation)\n",
        "data_validation = data.loc[ids_validation]\n",
        "# Print de dataframe met alleen de geselecteerde rijen\n",
        "print(data_validation)"
      ],
      "metadata": {
        "colab": {
          "base_uri": "https://localhost:8080/"
        },
        "id": "SLp5JUV1LdjO",
        "outputId": "a0b65ad6-2dd1-4045-9a04-598d8190d9d0"
      },
      "execution_count": 97,
      "outputs": [
        {
          "output_type": "stream",
          "name": "stdout",
          "text": [
            "                  label  PREDICT_original_sf_compactness_avg_2.5D  \\\n",
            "ID                                                                  \n",
            "Lipo-026_0  liposarcoma                                  0.470805   \n",
            "Lipo-060_0  liposarcoma                                  0.242915   \n",
            "Lipo-068_0  liposarcoma                                  0.544270   \n",
            "Lipo-100_0  liposarcoma                                  0.619780   \n",
            "Lipo-035_0       lipoma                                  0.742215   \n",
            "Lipo-102_0       lipoma                                  0.254190   \n",
            "Lipo-019_0       lipoma                                  0.517434   \n",
            "Lipo-047_0       lipoma                                  0.636253   \n",
            "Lipo-067_0       lipoma                                  0.195333   \n",
            "Lipo-034_0       lipoma                                  0.610952   \n",
            "Lipo-082_0       lipoma                                  0.742003   \n",
            "Lipo-072_0  liposarcoma                                  0.482700   \n",
            "Lipo-022_0  liposarcoma                                  0.696453   \n",
            "Lipo-038_0  liposarcoma                                  0.539443   \n",
            "Lipo-071_0       lipoma                                  0.501518   \n",
            "Lipo-115_0  liposarcoma                                  0.635282   \n",
            "Lipo-001_0  liposarcoma                                  0.368434   \n",
            "Lipo-097_0       lipoma                                  0.074405   \n",
            "Lipo-096_0       lipoma                                  0.631231   \n",
            "Lipo-113_0  liposarcoma                                  0.307562   \n",
            "\n",
            "            PREDICT_original_sf_compactness_std_2.5D  \\\n",
            "ID                                                     \n",
            "Lipo-026_0                                  0.200248   \n",
            "Lipo-060_0                                  0.239748   \n",
            "Lipo-068_0                                  0.251173   \n",
            "Lipo-100_0                                  0.142031   \n",
            "Lipo-035_0                                  0.128363   \n",
            "Lipo-102_0                                  0.168566   \n",
            "Lipo-019_0                                  0.219768   \n",
            "Lipo-047_0                                  0.123718   \n",
            "Lipo-067_0                                  0.162527   \n",
            "Lipo-034_0                                  0.230754   \n",
            "Lipo-082_0                                  0.101354   \n",
            "Lipo-072_0                                  0.288743   \n",
            "Lipo-022_0                                  0.108214   \n",
            "Lipo-038_0                                  0.177631   \n",
            "Lipo-071_0                                  0.164776   \n",
            "Lipo-115_0                                  0.145088   \n",
            "Lipo-001_0                                  0.262371   \n",
            "Lipo-097_0                                  0.045543   \n",
            "Lipo-096_0                                  0.147653   \n",
            "Lipo-113_0                                  0.169252   \n",
            "\n",
            "            PREDICT_original_sf_rad_dist_avg_2.5D  \\\n",
            "ID                                                  \n",
            "Lipo-026_0                              25.538000   \n",
            "Lipo-060_0                              29.576519   \n",
            "Lipo-068_0                             101.266132   \n",
            "Lipo-100_0                              22.094964   \n",
            "Lipo-035_0                              13.040440   \n",
            "Lipo-102_0                              28.905206   \n",
            "Lipo-019_0                              35.618608   \n",
            "Lipo-047_0                              18.507779   \n",
            "Lipo-067_0                              54.614667   \n",
            "Lipo-034_0                              44.170503   \n",
            "Lipo-082_0                              24.653714   \n",
            "Lipo-072_0                              66.885062   \n",
            "Lipo-022_0                             101.707133   \n",
            "Lipo-038_0                              40.351610   \n",
            "Lipo-071_0                              32.873272   \n",
            "Lipo-115_0                              99.852705   \n",
            "Lipo-001_0                              26.200395   \n",
            "Lipo-097_0                              56.404764   \n",
            "Lipo-096_0                              35.917387   \n",
            "Lipo-113_0                              49.473796   \n",
            "\n",
            "            PREDICT_original_sf_rad_dist_std_2.5D  \\\n",
            "ID                                                  \n",
            "Lipo-026_0                               6.845394   \n",
            "Lipo-060_0                              11.108569   \n",
            "Lipo-068_0                              18.720028   \n",
            "Lipo-100_0                               6.106514   \n",
            "Lipo-035_0                               2.045713   \n",
            "Lipo-102_0                              11.636012   \n",
            "Lipo-019_0                              11.486487   \n",
            "Lipo-047_0                               3.871629   \n",
            "Lipo-067_0                              16.064566   \n",
            "Lipo-034_0                               7.455564   \n",
            "Lipo-082_0                               5.670385   \n",
            "Lipo-072_0                              17.188803   \n",
            "Lipo-022_0                              14.564507   \n",
            "Lipo-038_0                               9.240545   \n",
            "Lipo-071_0                              10.353515   \n",
            "Lipo-115_0                              14.692765   \n",
            "Lipo-001_0                               8.174390   \n",
            "Lipo-097_0                              20.463085   \n",
            "Lipo-096_0                              10.367294   \n",
            "Lipo-113_0                              16.537665   \n",
            "\n",
            "            PREDICT_original_sf_roughness_avg_2.5D  \\\n",
            "ID                                                   \n",
            "Lipo-026_0                               16.439254   \n",
            "Lipo-060_0                               23.505172   \n",
            "Lipo-068_0                               16.281349   \n",
            "Lipo-100_0                                5.651511   \n",
            "Lipo-035_0                                5.426304   \n",
            "Lipo-102_0                               27.485923   \n",
            "Lipo-019_0                               23.478073   \n",
            "Lipo-047_0                                8.102181   \n",
            "Lipo-067_0                               23.306139   \n",
            "Lipo-034_0                                8.495638   \n",
            "Lipo-082_0                                9.497646   \n",
            "Lipo-072_0                               31.365311   \n",
            "Lipo-022_0                                9.027869   \n",
            "Lipo-038_0                               10.190586   \n",
            "Lipo-071_0                               12.955563   \n",
            "Lipo-115_0                               10.222245   \n",
            "Lipo-001_0                               20.940000   \n",
            "Lipo-097_0                               36.696917   \n",
            "Lipo-096_0                               11.888262   \n",
            "Lipo-113_0                               27.933840   \n",
            "\n",
            "            PREDICT_original_sf_roughness_std_2.5D  \\\n",
            "ID                                                   \n",
            "Lipo-026_0                                7.644314   \n",
            "Lipo-060_0                               15.848881   \n",
            "Lipo-068_0                               16.647647   \n",
            "Lipo-100_0                                3.016739   \n",
            "Lipo-035_0                                2.991744   \n",
            "Lipo-102_0                               23.063341   \n",
            "Lipo-019_0                               10.665683   \n",
            "Lipo-047_0                                4.278742   \n",
            "Lipo-067_0                               25.892088   \n",
            "Lipo-034_0                                5.516818   \n",
            "Lipo-082_0                                4.837247   \n",
            "Lipo-072_0                               23.620358   \n",
            "Lipo-022_0                                5.233825   \n",
            "Lipo-038_0                                7.582668   \n",
            "Lipo-071_0                               10.658635   \n",
            "Lipo-115_0                               11.102328   \n",
            "Lipo-001_0                               13.551937   \n",
            "Lipo-097_0                               38.565022   \n",
            "Lipo-096_0                                5.516616   \n",
            "Lipo-113_0                               18.673471   \n",
            "\n",
            "            PREDICT_original_sf_convexity_avg_2.5D  \\\n",
            "ID                                                   \n",
            "Lipo-026_0                                0.775835   \n",
            "Lipo-060_0                                0.588704   \n",
            "Lipo-068_0                                0.781540   \n",
            "Lipo-100_0                                0.918375   \n",
            "Lipo-035_0                                0.954249   \n",
            "Lipo-102_0                                0.655196   \n",
            "Lipo-019_0                                0.886492   \n",
            "Lipo-047_0                                0.913552   \n",
            "Lipo-067_0                                0.479653   \n",
            "Lipo-034_0                                0.826140   \n",
            "Lipo-082_0                                0.950913   \n",
            "Lipo-072_0                                0.719162   \n",
            "Lipo-022_0                                0.888048   \n",
            "Lipo-038_0                                0.840959   \n",
            "Lipo-071_0                                0.862939   \n",
            "Lipo-115_0                                0.844560   \n",
            "Lipo-001_0                                0.694139   \n",
            "Lipo-097_0                                0.346342   \n",
            "Lipo-096_0                                0.925969   \n",
            "Lipo-113_0                                0.711245   \n",
            "\n",
            "            PREDICT_original_sf_convexity_std_2.5D  \\\n",
            "ID                                                   \n",
            "Lipo-026_0                                0.149662   \n",
            "Lipo-060_0                                0.242734   \n",
            "Lipo-068_0                                0.207953   \n",
            "Lipo-100_0                                0.077832   \n",
            "Lipo-035_0                                0.028652   \n",
            "Lipo-102_0                                0.184559   \n",
            "Lipo-019_0                                0.177301   \n",
            "Lipo-047_0                                0.070110   \n",
            "Lipo-067_0                                0.190290   \n",
            "Lipo-034_0                                0.176543   \n",
            "Lipo-082_0                                0.062852   \n",
            "Lipo-072_0                                0.271448   \n",
            "Lipo-022_0                                0.058903   \n",
            "Lipo-038_0                                0.127308   \n",
            "Lipo-071_0                                0.107540   \n",
            "Lipo-115_0                                0.098614   \n",
            "Lipo-001_0                                0.227848   \n",
            "Lipo-097_0                                0.099853   \n",
            "Lipo-096_0                                0.068645   \n",
            "Lipo-113_0                                0.175630   \n",
            "\n",
            "            PREDICT_original_sf_cvar_avg_2.5D  ...  \\\n",
            "ID                                             ...   \n",
            "Lipo-026_0                           0.070737  ...   \n",
            "Lipo-060_0                           0.149245  ...   \n",
            "Lipo-068_0                           0.038916  ...   \n",
            "Lipo-100_0                           0.082843  ...   \n",
            "Lipo-035_0                           0.028686  ...   \n",
            "Lipo-102_0                           0.172298  ...   \n",
            "Lipo-019_0                           0.102381  ...   \n",
            "Lipo-047_0                           0.052756  ...   \n",
            "Lipo-067_0                           0.100530  ...   \n",
            "Lipo-034_0                           0.034030  ...   \n",
            "Lipo-082_0                           0.054707  ...   \n",
            "Lipo-072_0                           0.082902  ...   \n",
            "Lipo-022_0                           0.022188  ...   \n",
            "Lipo-038_0                           0.067426  ...   \n",
            "Lipo-071_0                           0.098925  ...   \n",
            "Lipo-115_0                           0.024638  ...   \n",
            "Lipo-001_0                           0.096312  ...   \n",
            "Lipo-097_0                           0.136403  ...   \n",
            "Lipo-096_0                           0.090820  ...   \n",
            "Lipo-113_0                           0.124220  ...   \n",
            "\n",
            "            PREDICT_original_phasef_phasesym_median_WL3_N5  \\\n",
            "ID                                                           \n",
            "Lipo-026_0                                        0.000000   \n",
            "Lipo-060_0                                        0.000000   \n",
            "Lipo-068_0                                        0.000000   \n",
            "Lipo-100_0                                        0.000000   \n",
            "Lipo-035_0                                        0.000000   \n",
            "Lipo-102_0                                        0.126573   \n",
            "Lipo-019_0                                        0.000000   \n",
            "Lipo-047_0                                        0.144842   \n",
            "Lipo-067_0                                        0.000000   \n",
            "Lipo-034_0                                        0.000000   \n",
            "Lipo-082_0                                        0.104849   \n",
            "Lipo-072_0                                        0.000000   \n",
            "Lipo-022_0                                        0.000000   \n",
            "Lipo-038_0                                        0.000000   \n",
            "Lipo-071_0                                        0.183678   \n",
            "Lipo-115_0                                        0.000000   \n",
            "Lipo-001_0                                        0.049726   \n",
            "Lipo-097_0                                        0.035886   \n",
            "Lipo-096_0                                        0.081554   \n",
            "Lipo-113_0                                        0.000000   \n",
            "\n",
            "            PREDICT_original_phasef_phasesym_std_WL3_N5  \\\n",
            "ID                                                        \n",
            "Lipo-026_0                                     0.081426   \n",
            "Lipo-060_0                                     0.126551   \n",
            "Lipo-068_0                                     0.131577   \n",
            "Lipo-100_0                                     0.195434   \n",
            "Lipo-035_0                                     0.188829   \n",
            "Lipo-102_0                                     0.215214   \n",
            "Lipo-019_0                                     0.177168   \n",
            "Lipo-047_0                                     0.182798   \n",
            "Lipo-067_0                                     0.156932   \n",
            "Lipo-034_0                                     0.135439   \n",
            "Lipo-082_0                                     0.184924   \n",
            "Lipo-072_0                                     0.149858   \n",
            "Lipo-022_0                                     0.147282   \n",
            "Lipo-038_0                                     0.125702   \n",
            "Lipo-071_0                                     0.232181   \n",
            "Lipo-115_0                                     0.091708   \n",
            "Lipo-001_0                                     0.196019   \n",
            "Lipo-097_0                                     0.167271   \n",
            "Lipo-096_0                                     0.179071   \n",
            "Lipo-113_0                                     0.189939   \n",
            "\n",
            "            PREDICT_original_phasef_phasesym_skewness_WL3_N5  \\\n",
            "ID                                                             \n",
            "Lipo-026_0                                          3.112825   \n",
            "Lipo-060_0                                          1.955329   \n",
            "Lipo-068_0                                          1.981239   \n",
            "Lipo-100_0                                          1.060272   \n",
            "Lipo-035_0                                          1.879032   \n",
            "Lipo-102_0                                          0.717969   \n",
            "Lipo-019_0                                          1.238342   \n",
            "Lipo-047_0                                          0.736685   \n",
            "Lipo-067_0                                          1.520977   \n",
            "Lipo-034_0                                          2.021879   \n",
            "Lipo-082_0                                          0.921900   \n",
            "Lipo-072_0                                          1.354735   \n",
            "Lipo-022_0                                          1.400945   \n",
            "Lipo-038_0                                          2.085588   \n",
            "Lipo-071_0                                          0.541837   \n",
            "Lipo-115_0                                          2.795275   \n",
            "Lipo-001_0                                          0.927821   \n",
            "Lipo-097_0                                          1.239856   \n",
            "Lipo-096_0                                          0.944155   \n",
            "Lipo-113_0                                          1.401486   \n",
            "\n",
            "            PREDICT_original_phasef_phasesym_kurtosis_WL3_N5  \\\n",
            "ID                                                             \n",
            "Lipo-026_0                                         10.615912   \n",
            "Lipo-060_0                                          3.383556   \n",
            "Lipo-068_0                                          3.470776   \n",
            "Lipo-100_0                                         -0.153120   \n",
            "Lipo-035_0                                          2.414893   \n",
            "Lipo-102_0                                         -0.711187   \n",
            "Lipo-019_0                                          0.418037   \n",
            "Lipo-047_0                                         -0.482112   \n",
            "Lipo-067_0                                          1.526876   \n",
            "Lipo-034_0                                          3.547917   \n",
            "Lipo-082_0                                         -0.182178   \n",
            "Lipo-072_0                                          1.036628   \n",
            "Lipo-022_0                                          1.166770   \n",
            "Lipo-038_0                                          3.787158   \n",
            "Lipo-071_0                                         -0.958674   \n",
            "Lipo-115_0                                          8.509106   \n",
            "Lipo-001_0                                         -0.407270   \n",
            "Lipo-097_0                                          0.812023   \n",
            "Lipo-096_0                                         -0.177455   \n",
            "Lipo-113_0                                          1.108534   \n",
            "\n",
            "            PREDICT_original_phasef_phasesym_peak_WL3_N5  \\\n",
            "ID                                                         \n",
            "Lipo-026_0                                           0.0   \n",
            "Lipo-060_0                                           0.0   \n",
            "Lipo-068_0                                           0.0   \n",
            "Lipo-100_0                                           0.0   \n",
            "Lipo-035_0                                           0.0   \n",
            "Lipo-102_0                                           0.0   \n",
            "Lipo-019_0                                           0.0   \n",
            "Lipo-047_0                                           0.0   \n",
            "Lipo-067_0                                           0.0   \n",
            "Lipo-034_0                                           0.0   \n",
            "Lipo-082_0                                           0.0   \n",
            "Lipo-072_0                                           0.0   \n",
            "Lipo-022_0                                           0.0   \n",
            "Lipo-038_0                                           0.0   \n",
            "Lipo-071_0                                           0.0   \n",
            "Lipo-115_0                                           0.0   \n",
            "Lipo-001_0                                           0.0   \n",
            "Lipo-097_0                                           0.0   \n",
            "Lipo-096_0                                           0.0   \n",
            "Lipo-113_0                                           0.0   \n",
            "\n",
            "            PREDICT_original_phasef_phasesym_peak_position_WL3_N5  \\\n",
            "ID                                                                  \n",
            "Lipo-026_0                                                  0       \n",
            "Lipo-060_0                                                  0       \n",
            "Lipo-068_0                                                  0       \n",
            "Lipo-100_0                                                  0       \n",
            "Lipo-035_0                                                  0       \n",
            "Lipo-102_0                                                  0       \n",
            "Lipo-019_0                                                  0       \n",
            "Lipo-047_0                                                  0       \n",
            "Lipo-067_0                                                  0       \n",
            "Lipo-034_0                                                  0       \n",
            "Lipo-082_0                                                  0       \n",
            "Lipo-072_0                                                  0       \n",
            "Lipo-022_0                                                  0       \n",
            "Lipo-038_0                                                  0       \n",
            "Lipo-071_0                                                  0       \n",
            "Lipo-115_0                                                  0       \n",
            "Lipo-001_0                                                  0       \n",
            "Lipo-097_0                                                  0       \n",
            "Lipo-096_0                                                  0       \n",
            "Lipo-113_0                                                  0       \n",
            "\n",
            "            PREDICT_original_phasef_phasesym_range_WL3_N5  \\\n",
            "ID                                                          \n",
            "Lipo-026_0                                       0.322411   \n",
            "Lipo-060_0                                       0.461594   \n",
            "Lipo-068_0                                       0.475538   \n",
            "Lipo-100_0                                       0.619625   \n",
            "Lipo-035_0                                       0.673129   \n",
            "Lipo-102_0                                       0.682984   \n",
            "Lipo-019_0                                       0.587532   \n",
            "Lipo-047_0                                       0.610672   \n",
            "Lipo-067_0                                       0.543056   \n",
            "Lipo-034_0                                       0.501951   \n",
            "Lipo-082_0                                       0.614893   \n",
            "Lipo-072_0                                       0.511940   \n",
            "Lipo-022_0                                       0.498412   \n",
            "Lipo-038_0                                       0.464831   \n",
            "Lipo-071_0                                       0.735954   \n",
            "Lipo-115_0                                       0.353764   \n",
            "Lipo-001_0                                       0.625304   \n",
            "Lipo-097_0                                       0.585099   \n",
            "Lipo-096_0                                       0.594360   \n",
            "Lipo-113_0                                       0.665575   \n",
            "\n",
            "            PREDICT_original_phasef_phasesym_energy_WL3_N5  \\\n",
            "ID                                                           \n",
            "Lipo-026_0                                      244.597362   \n",
            "Lipo-060_0                                     2275.700548   \n",
            "Lipo-068_0                                    26595.982858   \n",
            "Lipo-100_0                                      537.646556   \n",
            "Lipo-035_0                                       72.253869   \n",
            "Lipo-102_0                                     4063.843844   \n",
            "Lipo-019_0                                     2955.714640   \n",
            "Lipo-047_0                                     1715.696216   \n",
            "Lipo-067_0                                     8368.421617   \n",
            "Lipo-034_0                                     1180.323514   \n",
            "Lipo-082_0                                     1944.182182   \n",
            "Lipo-072_0                                    12755.877390   \n",
            "Lipo-022_0                                    45549.151665   \n",
            "Lipo-038_0                                     2866.790469   \n",
            "Lipo-071_0                                     6550.773164   \n",
            "Lipo-115_0                                    10465.471442   \n",
            "Lipo-001_0                                     3238.304991   \n",
            "Lipo-097_0                                     5826.861056   \n",
            "Lipo-096_0                                     4090.258906   \n",
            "Lipo-113_0                                     4967.976759   \n",
            "\n",
            "            PREDICT_original_phasef_phasesym_quartile_range_WL3_N5  \\\n",
            "ID                                                                   \n",
            "Lipo-026_0                                           0.000000        \n",
            "Lipo-060_0                                           0.112317        \n",
            "Lipo-068_0                                           0.107864        \n",
            "Lipo-100_0                                           0.291763        \n",
            "Lipo-035_0                                           0.111903        \n",
            "Lipo-102_0                                           0.379273        \n",
            "Lipo-019_0                                           0.244851        \n",
            "Lipo-047_0                                           0.319576        \n",
            "Lipo-067_0                                           0.189764        \n",
            "Lipo-034_0                                           0.105126        \n",
            "Lipo-082_0                                           0.299803        \n",
            "Lipo-072_0                                           0.205459        \n",
            "Lipo-022_0                                           0.197682        \n",
            "Lipo-038_0                                           0.083101        \n",
            "Lipo-071_0                                           0.439963        \n",
            "Lipo-115_0                                           0.000000        \n",
            "Lipo-001_0                                           0.315148        \n",
            "Lipo-097_0                                           0.242394        \n",
            "Lipo-096_0                                           0.282224        \n",
            "Lipo-113_0                                           0.246028        \n",
            "\n",
            "            PREDICT_original_phasef_phasesym_entropy_WL3_N5  \n",
            "ID                                                           \n",
            "Lipo-026_0                                        12.326386  \n",
            "Lipo-060_0                                        14.900935  \n",
            "Lipo-068_0                                        18.257968  \n",
            "Lipo-100_0                                        11.832543  \n",
            "Lipo-035_0                                         8.607203  \n",
            "Lipo-102_0                                        14.564671  \n",
            "Lipo-019_0                                        14.555744  \n",
            "Lipo-047_0                                        13.813866  \n",
            "Lipo-067_0                                        16.340008  \n",
            "Lipo-034_0                                        13.686861  \n",
            "Lipo-082_0                                        13.947527  \n",
            "Lipo-072_0                                        17.134066  \n",
            "Lipo-022_0                                        18.981661  \n",
            "Lipo-038_0                                        15.103025  \n",
            "Lipo-071_0                                        15.041924  \n",
            "Lipo-115_0                                        17.544556  \n",
            "Lipo-001_0                                        14.462361  \n",
            "Lipo-097_0                                        15.773691  \n",
            "Lipo-096_0                                        15.108835  \n",
            "Lipo-113_0                                        15.106777  \n",
            "\n",
            "[20 rows x 494 columns]\n"
          ]
        }
      ]
    }
  ],
  "metadata": {
    "colab": {
      "name": "assignment.ipynb",
      "provenance": [],
      "include_colab_link": true
    },
    "kernelspec": {
      "display_name": "Python 3",
      "language": "python",
      "name": "python3"
    },
    "language_info": {
      "codemirror_mode": {
        "name": "ipython",
        "version": 3
      },
      "file_extension": ".py",
      "mimetype": "text/x-python",
      "name": "python",
      "nbconvert_exporter": "python",
      "pygments_lexer": "ipython3",
      "version": "3.8.5"
    }
  },
  "nbformat": 4,
  "nbformat_minor": 0
}